{
 "cells": [
  {
   "cell_type": "code",
   "execution_count": 1,
   "metadata": {},
   "outputs": [],
   "source": [
    "# Useful starting lines\n",
    "%matplotlib inline\n",
    "import numpy as np\n",
    "import matplotlib.pyplot as plt\n",
    "import helpers\n",
    "\n",
    "%load_ext autoreload\n",
    "%autoreload 2"
   ]
  },
  {
   "cell_type": "markdown",
   "metadata": {},
   "source": [
    "# Load the data"
   ]
  },
  {
   "cell_type": "code",
   "execution_count": 2,
   "metadata": {},
   "outputs": [],
   "source": [
    "import datetime\n",
    "from helpers import *\n",
    "\n",
    "height, weight, gender = load_data(sub_sample=False, add_outlier=False)\n",
    "x, mean_x, std_x = standardize(height)\n",
    "y, tx = build_model_data(x, weight)"
   ]
  },
  {
   "cell_type": "code",
   "execution_count": 3,
   "metadata": {},
   "outputs": [
    {
     "data": {
      "text/plain": [
       "((10000,), (10000, 2))"
      ]
     },
     "execution_count": 3,
     "metadata": {},
     "output_type": "execute_result"
    }
   ],
   "source": [
    "y.shape, tx.shape"
   ]
  },
  {
   "cell_type": "markdown",
   "metadata": {},
   "source": [
    "### NB: throughout this laboratory the data has the following format: \n",
    "  * there are **N = 10000** data entries\n",
    "  * **y** represents the column vector containing weight information -- that which we wish to predict/the output (see also the first page of $\\texttt{exercise02.pdf}$). Its **shape** is **(N,)**.\n",
    "  * **tx** represents the matrix $\\tilde{X}$ formed by laterally concatenating a column vector of 1s to the column vector of height information -- the input data (see also the first page of $\\texttt{exercise02.pdf}$). Its **shape** is **(N,2)**."
   ]
  },
  {
   "cell_type": "markdown",
   "metadata": {},
   "source": [
    "# 1. Computing the Cost Function\n",
    "Fill in the `compute_loss` function below:"
   ]
  },
  {
   "cell_type": "code",
   "execution_count": 4,
   "metadata": {},
   "outputs": [],
   "source": [
    "def compute_loss(y, tx, w):\n",
    "    \"\"\"Calculate the loss using either MSE or MAE.\n",
    "\n",
    "    Args:\n",
    "        y: numpy array of shape=(N, )\n",
    "        tx: numpy array of shape=(N,2)\n",
    "        w: numpy array of shape=(2,). The vector of model parameters.\n",
    "\n",
    "    Returns:\n",
    "        the value of the loss (a scalar), corresponding to the input parameters w.\n",
    "    \"\"\"\n",
    "    # ***************************************************\n",
    "    # INSERT YOUR CODE HERE\n",
    "    # TODO: compute loss by MSE\n",
    "    L = np.sum((y - tx @ w)**2)\n",
    "    # ***************************************************\n",
    "    return L"
   ]
  },
  {
   "cell_type": "code",
   "execution_count": 5,
   "metadata": {},
   "outputs": [
    {
     "data": {
      "text/plain": [
       "53889667.317741685"
      ]
     },
     "execution_count": 5,
     "metadata": {},
     "output_type": "execute_result"
    }
   ],
   "source": [
    "compute_loss(y, tx, [1, 2])"
   ]
  },
  {
   "cell_type": "markdown",
   "metadata": {},
   "source": [
    "# 2. Grid Search"
   ]
  },
  {
   "cell_type": "markdown",
   "metadata": {},
   "source": [
    "Fill in the function `grid_search()` below:"
   ]
  },
  {
   "cell_type": "code",
   "execution_count": 6,
   "metadata": {},
   "outputs": [],
   "source": [
    "# from costs import *\n",
    "\n",
    "\n",
    "def grid_search(y, tx, grid_w0, grid_w1):\n",
    "    \"\"\"Algorithm for grid search.\n",
    "\n",
    "    Args:\n",
    "        y: numpy array of shape=(N, )\n",
    "        tx: numpy array of shape=(N,2)\n",
    "        grid_w0: numpy array of shape=(num_grid_pts_w0, ). A 1D array containing num_grid_pts_w0 values of parameter w0 to be tested in the grid search.\n",
    "        grid_w1: numpy array of shape=(num_grid_pts_w1, ). A 1D array containing num_grid_pts_w1 values of parameter w1 to be tested in the grid search.\n",
    "\n",
    "    Returns:\n",
    "        losses: numpy array of shape=(num_grid_pts_w0, num_grid_pts_w1). A 2D array containing the loss value for each combination of w0 and w1\n",
    "    \"\"\"\n",
    "\n",
    "    losses = np.zeros((len(grid_w0), len(grid_w1)))\n",
    "    # ***************************************************\n",
    "    # INSERT YOUR CODE HERE\n",
    "    # TODO: compute loss for each combination of w0 and w1.\n",
    "    # ***************************************************\n",
    "    \n",
    "    losses = np.zeros((np.size(grid_w0), np.size(grid_w1)))\n",
    "    \n",
    "    for i in range(np.size(grid_w0)):\n",
    "        for j in range(np.size(grid_w1)):\n",
    "            l = compute_loss(y, tx, [grid_w0[i], grid_w1[j]])\n",
    "            losses[i][j] = l\n",
    "\n",
    "           \n",
    "    return losses"
   ]
  },
  {
   "cell_type": "markdown",
   "metadata": {},
   "source": [
    "Let us play with the grid search demo now!"
   ]
  },
  {
   "cell_type": "code",
   "execution_count": 7,
   "metadata": {},
   "outputs": [
    {
     "name": "stdout",
     "output_type": "stream",
     "text": [
      "Grid Search: loss*=848489.6629356495, w0*=66.66666666666669, w1*=16.666666666666686, execution time=0.045 seconds\n"
     ]
    },
    {
     "data": {
      "image/png": "[encoded data removed]",
      "text/plain": [
       "<Figure size 1000x600 with 3 Axes>"
      ]
     },
     "metadata": {},
     "output_type": "display_data"
    }
   ],
   "source": [
    "from grid_search import generate_w, get_best_parameters\n",
    "from plots import grid_visualization\n",
    "\n",
    "# Generate the grid of parameters to be swept\n",
    "grid_w0, grid_w1 = generate_w(num_intervals=10)\n",
    "\n",
    "# Start the grid search\n",
    "start_time = datetime.datetime.now()\n",
    "grid_losses = grid_search(y, tx, grid_w0, grid_w1)\n",
    "\n",
    "# Select the best combinaison\n",
    "loss_star, w0_star, w1_star = get_best_parameters(grid_w0, grid_w1, grid_losses)\n",
    "end_time = datetime.datetime.now()\n",
    "execution_time = (end_time - start_time).total_seconds()\n",
    "\n",
    "# Print the results\n",
    "print(\n",
    "    \"Grid Search: loss*={l}, w0*={w0}, w1*={w1}, execution time={t:.3f} seconds\".format(\n",
    "        l=loss_star, w0=w0_star, w1=w1_star, t=execution_time\n",
    "    )\n",
    ")\n",
    "\n",
    "# Plot the results\n",
    "fig = grid_visualization(grid_losses, grid_w0, grid_w1, mean_x, std_x, height, weight)\n",
    "fig.set_size_inches(10.0, 6.0)\n",
    "fig.savefig(\"grid_plot\")  # Optional saving"
   ]
  },
  {
   "cell_type": "markdown",
   "metadata": {},
   "source": [
    "# 3. Gradient Descent"
   ]
  },
  {
   "cell_type": "markdown",
   "metadata": {},
   "source": [
    "Again, please fill in the functions `compute_gradient` below:"
   ]
  },
  {
   "cell_type": "code",
   "execution_count": 8,
   "metadata": {},
   "outputs": [],
   "source": [
    "def compute_gradient(y, tx, w):\n",
    "    \"\"\"Computes the gradient at w.\n",
    "\n",
    "    Args:\n",
    "        y: numpy array of shape=(N, )\n",
    "        tx: numpy array of shape=(N,2)\n",
    "        w: numpy array of shape=(2, ). The vector of model parameters.\n",
    "\n",
    "    Returns:\n",
    "        An numpy array of shape (2, ) (same shape as w), containing the gradient of the loss at w.\n",
    "    \"\"\"\n",
    "    # ***************************************************\n",
    "    # INSERT YOUR CODE HERE\n",
    "    # TODO: compute gradient vector\n",
    "    # ***************************************************\n",
    "    N = y.shape[0]\n",
    "    dL0 = -(1/N) * np.sum(y - tx @ w)\n",
    "    dL1 = -(1/N) * np.sum((y - tx @ w) * tx[:, 1])\n",
    "\n",
    "    return np.array([dL0, dL1])"
   ]
  },
  {
   "cell_type": "code",
   "execution_count": 9,
   "metadata": {},
   "outputs": [
    {
     "data": {
      "text/plain": [
       "array([  -17., -1326.])"
      ]
     },
     "execution_count": 9,
     "metadata": {},
     "output_type": "execute_result"
    }
   ],
   "source": [
    "compute_gradient(np.array([174]), np.array([[1, 78]]), np.array([1, 2]))"
   ]
  },
  {
   "cell_type": "markdown",
   "metadata": {},
   "source": [
    "Please fill in the functions `gradient_descent` below:"
   ]
  },
  {
   "cell_type": "code",
   "execution_count": 10,
   "metadata": {},
   "outputs": [],
   "source": [
    "def gradient_descent(y, tx, initial_w, max_iters, gamma):\n",
    "    \"\"\"The Gradient Descent (GD) algorithm.\n",
    "\n",
    "    Args:\n",
    "        y: numpy array of shape=(N, )\n",
    "        tx: numpy array of shape=(N,2)\n",
    "        initial_w: numpy array of shape=(2, ). The initial guess (or the initialization) for the model parameters\n",
    "        max_iters: a scalar denoting the total number of iterations of GD\n",
    "        gamma: a scalar denoting the stepsize\n",
    "\n",
    "    Returns:\n",
    "        losses: a list of length max_iters containing the loss value (scalar) for each iteration of GD\n",
    "        ws: a list of length max_iters containing the model parameters as numpy arrays of shape (2, ), for each iteration of GD\n",
    "    \"\"\"\n",
    "    # Define parameters to store w and loss\n",
    "    ws = [initial_w]\n",
    "    losses = []\n",
    "    w = initial_w\n",
    "    for n_iter in range(max_iters):\n",
    "        # ***************************************************\n",
    "        # INSERT YOUR CODE HERE\n",
    "        # TODO: compute gradient and loss\n",
    "        loss = compute_loss(y, tx, w)\n",
    "        grad = compute_gradient(y, tx, w)\n",
    "        # ***************************************************\n",
    "        # ***************************************************\n",
    "        # INSERT YOUR CODE HERE\n",
    "        # TODO: update w by gradient\n",
    "        w = w - gamma * grad\n",
    "        # ***************************************************\n",
    "\n",
    "        # store w and loss\n",
    "        ws.append(w)\n",
    "        losses.append(loss)\n",
    "        print(\n",
    "            \"GD iter. {bi}/{ti}: loss={l}, w0={w0}, w1={w1}\".format(\n",
    "                bi=n_iter, ti=max_iters - 1, l=loss, w0=w[0], w1=w[1]\n",
    "            )\n",
    "        )\n",
    "\n",
    "\n",
    "    return losses, ws"
   ]
  },
  {
   "cell_type": "markdown",
   "metadata": {},
   "source": [
    "Test your gradient descent function through gradient descent demo shown below:"
   ]
  },
  {
   "cell_type": "code",
   "execution_count": 11,
   "metadata": {},
   "outputs": [
    {
     "name": "stdout",
     "output_type": "stream",
     "text": [
      "GD iter. 0/49: loss=55844734.25518335, w0=51.30574540147362, w1=9.435798704492278\n",
      "GD iter. 1/49: loss=5306049.242179205, w0=66.69746902191572, w1=12.26653831584\n",
      "GD iter. 2/49: loss=757567.5910088235, w0=71.31498610804834, w1=13.11576019924433\n",
      "GD iter. 3/49: loss=348204.2424034894, w0=72.70024123388814, w1=13.370526764265632\n",
      "GD iter. 4/49: loss=311361.5410290091, w0=73.11581777164007, w1=13.446956733772023\n",
      "GD iter. 5/49: loss=308045.6979053059, w0=73.24049073296565, w1=13.469885724623941\n",
      "GD iter. 6/49: loss=307747.2720241726, w0=73.27789262136334, w1=13.476764421879516\n",
      "GD iter. 7/49: loss=307720.4136948706, w0=73.28911318788263, w1=13.478828031056189\n",
      "GD iter. 8/49: loss=307717.99644523347, w0=73.29247935783842, w1=13.47944711380919\n",
      "GD iter. 9/49: loss=307717.7788927661, w0=73.29348920882516, w1=13.47963283863509\n",
      "GD iter. 10/49: loss=307717.759313044, w0=73.29379216412119, w1=13.479688556082861\n",
      "GD iter. 11/49: loss=307717.7575508691, w0=73.29388305071, w1=13.479705271317192\n",
      "GD iter. 12/49: loss=307717.75739227334, w0=73.29391031668663, w1=13.479710285887492\n",
      "GD iter. 13/49: loss=307717.75737799966, w0=73.29391849647962, w1=13.479711790258582\n",
      "GD iter. 14/49: loss=307717.757376715, w0=73.29392095041752, w1=13.479712241569908\n",
      "GD iter. 15/49: loss=307717.7573765995, w0=73.29392168659889, w1=13.479712376963306\n",
      "GD iter. 16/49: loss=307717.757376589, w0=73.2939219074533, w1=13.479712417581325\n",
      "GD iter. 17/49: loss=307717.75737658807, w0=73.29392197370962, w1=13.479712429766732\n",
      "GD iter. 18/49: loss=307717.757376588, w0=73.29392199358652, w1=13.479712433422353\n",
      "GD iter. 19/49: loss=307717.75737658807, w0=73.2939219995496, w1=13.47971243451904\n",
      "GD iter. 20/49: loss=307717.75737658795, w0=73.29392200133852, w1=13.479712434848047\n",
      "GD iter. 21/49: loss=307717.757376588, w0=73.29392200187519, w1=13.479712434946748\n",
      "GD iter. 22/49: loss=307717.757376588, w0=73.29392200203618, w1=13.479712434976358\n",
      "GD iter. 23/49: loss=307717.757376588, w0=73.29392200208449, w1=13.479712434985242\n",
      "GD iter. 24/49: loss=307717.757376588, w0=73.29392200209898, w1=13.479712434987906\n",
      "GD iter. 25/49: loss=307717.75737658795, w0=73.29392200210333, w1=13.479712434988706\n",
      "GD iter. 26/49: loss=307717.757376588, w0=73.29392200210464, w1=13.479712434988945\n",
      "GD iter. 27/49: loss=307717.757376588, w0=73.29392200210502, w1=13.479712434989018\n",
      "GD iter. 28/49: loss=307717.757376588, w0=73.29392200210513, w1=13.47971243498904\n",
      "GD iter. 29/49: loss=307717.757376588, w0=73.29392200210518, w1=13.479712434989047\n",
      "GD iter. 30/49: loss=307717.757376588, w0=73.29392200210519, w1=13.479712434989048\n",
      "GD iter. 31/49: loss=307717.757376588, w0=73.29392200210519, w1=13.479712434989048\n",
      "GD iter. 32/49: loss=307717.757376588, w0=73.29392200210519, w1=13.479712434989048\n",
      "GD iter. 33/49: loss=307717.757376588, w0=73.29392200210519, w1=13.479712434989048\n",
      "GD iter. 34/49: loss=307717.757376588, w0=73.29392200210519, w1=13.479712434989048\n",
      "GD iter. 35/49: loss=307717.757376588, w0=73.29392200210519, w1=13.479712434989048\n",
      "GD iter. 36/49: loss=307717.757376588, w0=73.29392200210519, w1=13.479712434989048\n",
      "GD iter. 37/49: loss=307717.757376588, w0=73.29392200210519, w1=13.479712434989048\n",
      "GD iter. 38/49: loss=307717.757376588, w0=73.29392200210519, w1=13.479712434989048\n",
      "GD iter. 39/49: loss=307717.757376588, w0=73.29392200210519, w1=13.479712434989048\n",
      "GD iter. 40/49: loss=307717.757376588, w0=73.29392200210519, w1=13.479712434989048\n",
      "GD iter. 41/49: loss=307717.757376588, w0=73.29392200210519, w1=13.479712434989048\n",
      "GD iter. 42/49: loss=307717.757376588, w0=73.29392200210519, w1=13.479712434989048\n",
      "GD iter. 43/49: loss=307717.757376588, w0=73.29392200210519, w1=13.479712434989048\n",
      "GD iter. 44/49: loss=307717.757376588, w0=73.29392200210519, w1=13.479712434989048\n",
      "GD iter. 45/49: loss=307717.757376588, w0=73.29392200210519, w1=13.479712434989048\n",
      "GD iter. 46/49: loss=307717.757376588, w0=73.29392200210519, w1=13.479712434989048\n",
      "GD iter. 47/49: loss=307717.757376588, w0=73.29392200210519, w1=13.479712434989048\n",
      "GD iter. 48/49: loss=307717.757376588, w0=73.29392200210519, w1=13.479712434989048\n",
      "GD iter. 49/49: loss=307717.757376588, w0=73.29392200210519, w1=13.479712434989048\n",
      "GD: execution time=0.054 seconds\n"
     ]
    }
   ],
   "source": [
    "# from gradient_descent import *\n",
    "from plots import gradient_descent_visualization\n",
    "\n",
    "# Define the parameters of the algorithm.\n",
    "max_iters = 50\n",
    "gamma = 0.7\n",
    "\n",
    "# Initialization\n",
    "w_initial = np.array([0, 0])\n",
    "\n",
    "# Start gradient descent.\n",
    "start_time = datetime.datetime.now()\n",
    "gd_losses, gd_ws = gradient_descent(y, tx, w_initial, max_iters, gamma)\n",
    "end_time = datetime.datetime.now()\n",
    "\n",
    "# Print result\n",
    "exection_time = (end_time - start_time).total_seconds()\n",
    "print(\"GD: execution time={t:.3f} seconds\".format(t=exection_time))\n"
   ]
  },
  {
   "cell_type": "code",
   "execution_count": 13,
   "metadata": {},
   "outputs": [
    {
     "data": {
      "application/vnd.jupyter.widget-view+json": {
       "model_id": "378456f3142a47caba0adccc4d9258f9",
       "version_major": 2,
       "version_minor": 0
      },
      "text/plain": [
       "interactive(children=(IntSlider(value=1, description='n_iter', max=51, min=1), Output()), _dom_classes=('widge…"
      ]
     },
     "metadata": {},
     "output_type": "display_data"
    },
    {
     "data": {
      "text/plain": [
       "<function __main__.plot_figure(n_iter)>"
      ]
     },
     "execution_count": 13,
     "metadata": {},
     "output_type": "execute_result"
    }
   ],
   "source": [
    "# Time Visualization\n",
    "from ipywidgets import IntSlider, interact\n",
    "\n",
    "def plot_figure(n_iter):\n",
    "    fig = gradient_descent_visualization(\n",
    "        gd_losses,\n",
    "        gd_ws,\n",
    "        grid_losses,\n",
    "        grid_w0,\n",
    "        grid_w1,\n",
    "        mean_x,\n",
    "        std_x,\n",
    "        height,\n",
    "        weight,\n",
    "        n_iter,\n",
    "    )\n",
    "    fig.set_size_inches(10.0, 6.0)\n",
    "    plt.show()\n",
    "\n",
    "\n",
    "interact(plot_figure, n_iter=IntSlider(min=1, max=len(gd_ws)))"
   ]
  },
  {
   "cell_type": "markdown",
   "metadata": {
    "collapsed": true,
    "jupyter": {
     "outputs_hidden": true
    }
   },
   "source": [
    "# 4. Stochastic gradient descent"
   ]
  },
  {
   "cell_type": "code",
   "execution_count": 14,
   "metadata": {},
   "outputs": [],
   "source": [
    "def compute_stoch_gradient(y, tx, w):\n",
    "    \"\"\"Compute a stochastic gradient at w from a data sample batch of size B, where B < N, and their corresponding labels.\n",
    "\n",
    "    Args:\n",
    "        y: numpy array of shape=(B, )\n",
    "        tx: numpy array of shape=(B,2)\n",
    "        w: numpy array of shape=(2, ). The vector of model parameters.\n",
    "\n",
    "    Returns:\n",
    "        A numpy array of shape (2, ) (same shape as w), containing the stochastic gradient of the loss at w.\n",
    "    \"\"\"\n",
    "\n",
    "    # ***************************************************\n",
    "    # INSERT YOUR CODE HERE\n",
    "    # TODO: implement stochastic gradient computation. It's the same as the usual gradient.\n",
    "    # ***************************************************\n",
    "    return compute_gradient(y, tx, w)\n",
    "    \n",
    "def stochastic_gradient_descent(y, tx, initial_w, batch_size, max_iters, gamma):\n",
    "    \"\"\"The Stochastic Gradient Descent algorithm (SGD).\n",
    "\n",
    "    Args:\n",
    "        y: numpy array of shape=(N, )\n",
    "        tx: numpy array of shape=(N,2)\n",
    "        initial_w: numpy array of shape=(2, ). The initial guess (or the initialization) for the model parameters\n",
    "        batch_size: a scalar denoting the number of data points in a mini-batch used for computing the stochastic gradient\n",
    "        max_iters: a scalar denoting the total number of iterations of SGD\n",
    "        gamma: a scalar denoting the stepsize\n",
    "\n",
    "    Returns:\n",
    "        losses: a list of length max_iters containing the loss value (scalar) for each iteration of SGD\n",
    "        ws: a list of length max_iters containing the model parameters as numpy arrays of shape (2, ), for each iteration of SGD\n",
    "    \"\"\"\n",
    "\n",
    "    # Define parameters to store w and loss\n",
    "    ws = [initial_w]\n",
    "    losses = []\n",
    "    w = initial_w\n",
    "\n",
    "    for n_iter in range(max_iters):\n",
    "        # ***************************************************\n",
    "        # INSERT YOUR CODE HERE\n",
    "        # TODO: implement stochastic gradient descent.\n",
    "        # ***************************************************\n",
    "        loss = compute_loss(y, tx, w)\n",
    "        batch = helpers.batch_iter(y, tx, batch_size)\n",
    "        grad = 0\n",
    "        \n",
    "        for y, tx in batch:\n",
    "            grad+=compute_stoch_gradient(y, tx, w)\n",
    "            \n",
    "        w = w - gamma * grad\n",
    "\n",
    "        ws.append(w)\n",
    "        losses.append(loss)\n",
    "        print(\n",
    "            \"SGD iter. {bi}/{ti}: loss={l}, w0={w0}, w1={w1}\".format(\n",
    "                bi=n_iter, ti=max_iters - 1, l=loss, w0=w[0], w1=w[1]\n",
    "            )\n",
    "        )\n",
    "    return losses, ws"
   ]
  },
  {
   "cell_type": "code",
   "execution_count": 17,
   "metadata": {},
   "outputs": [
    {
     "name": "stdout",
     "output_type": "stream",
     "text": [
      "SGD iter. 0/49: loss=55844734.25518335, w0=5.43487443990565, w1=-3.4308003318093405\n",
      "SGD iter. 1/49: loss=12334.392986076113, w0=10.026549370967047, w1=-5.88272034746935\n",
      "SGD iter. 2/49: loss=9872.791089738128, w0=13.944858971777409, w1=-7.573250013354038\n",
      "SGD iter. 3/49: loss=8207.315446314089, w0=17.32365424773584, w1=-8.673086507207186\n",
      "SGD iter. 4/49: loss=7043.157443747037, w0=20.26848913020894, w1=-9.316153031973348\n",
      "SGD iter. 5/49: loss=6197.5405051687985, w0=22.862662729944923, w1=-9.607474094960342\n",
      "SGD iter. 6/49: loss=5556.9542797530785, w0=25.17196938684652, w1=-9.629365810970558\n",
      "SGD iter. 7/49: loss=5050.726280306155, w0=27.248432934670394, w1=-9.44630169198066\n",
      "SGD iter. 8/49: loss=4634.688902330073, w0=29.13324246763163, w1=-9.10873727479828\n",
      "SGD iter. 9/49: loss=4281.084724513723, w0=30.859060413832246, w1=-8.656116322748383\n",
      "SGD iter. 10/49: loss=3972.3267060596227, w0=32.45183718189146, w1=-8.119233689032965\n",
      "SGD iter. 11/49: loss=3697.140533335065, w0=33.93223792499637, w1=-7.522092474047019\n",
      "SGD iter. 12/49: loss=3448.1790686857235, w0=35.31676438872013, w1=-6.883363666104518\n",
      "SGD iter. 13/49: loss=3220.5465579259417, w0=36.618637060972816, w1=-6.217533310674158\n",
      "SGD iter. 14/49: loss=3010.885106181301, w0=37.8484888911396, w1=-5.535804059963638\n",
      "SGD iter. 15/49: loss=2816.8086940601215, w0=39.014910878630324, w1=-4.846803653375748\n",
      "SGD iter. 16/49: loss=2636.552042916624, w0=40.12488121026917, w1=-4.157141637416776\n",
      "SGD iter. 17/49: loss=2468.7523304766273, w0=41.184102849324546, w1=-3.471846796600638\n",
      "SGD iter. 18/49: loss=2312.3130823591396, w0=42.19726915201029, w1=-2.794710820298389\n",
      "SGD iter. 19/49: loss=2166.3189212604566, w0=43.168272899866544, w1=-2.1285582699248464\n",
      "SGD iter. 20/49: loss=2029.981816506199, w0=44.1003708447777, w1=-1.4754586184361775\n",
      "SGD iter. 21/49: loss=1902.606867900823, w0=44.99631327588206, w1=-0.8368927599433712\n",
      "SGD iter. 22/49: loss=1783.5702252941792, w0=45.85844608363933, w1=-0.21388373489282753\n",
      "SGD iter. 23/49: loss=1672.3045679159702, w0=46.6887911974407, w1=0.3929006686854951\n",
      "SGD iter. 24/49: loss=1568.2893119603077, w0=47.489110016292166, w1=0.9830674162899677\n",
      "SGD iter. 25/49: loss=1471.043793076054, w0=48.2609534641089, w1=1.556435097166288\n",
      "SGD iter. 26/49: loss=1380.1223368822984, w0=49.00570152451129, w1=2.1129844430946716\n",
      "SGD iter. 27/49: loss=1295.1105426731135, w0=49.724594499500895, w1=2.6528195712730747\n",
      "SGD iter. 28/49: loss=1215.6223602957916, w0=50.41875775647706, w1=3.176137652589582\n",
      "SGD iter. 29/49: loss=1141.2976978410998, w0=51.089221350795555, w1=3.6832051984723\n",
      "SGD iter. 30/49: loss=1071.800395385128, w0=51.736935614508894, w1=4.174339546168136\n",
      "SGD iter. 31/49: loss=1006.8164605033827, w0=52.36278356880093, w1=4.649894426244386\n",
      "SGD iter. 32/49: loss=946.0524988106108, w0=52.96759083436604, w1=5.1102487350248875\n",
      "SGD iter. 33/49: loss=889.2342961220943, w0=53.552133569919114, w1=5.555797822476128\n",
      "SGD iter. 34/49: loss=836.1055233960276, w0=54.11714485577101, w1=5.986946753682574\n",
      "SGD iter. 35/49: loss=786.4265447470517, w0=54.66331985037414, w1=6.4041051180902056\n",
      "SGD iter. 36/49: loss=739.9733145855703, w0=55.19131997775305, w1=6.807683051909409\n",
      "SGD iter. 37/49: loss=696.5363536141344, w0=55.701776348712116, w1=7.198088210764324\n",
      "SGD iter. 38/49: loss=655.919795791355, w0=56.19529257545549, w1=7.575723486030521\n",
      "SGD iter. 39/49: loss=617.9404999441559, w0=56.67244710524601, w1=7.940985302598466\n",
      "SGD iter. 40/49: loss=582.4272207733455, w0=57.133795171992205, w1=8.294262370616407\n",
      "SGD iter. 41/49: loss=549.2198347426881, w0=57.57987044362984, w1=8.635934791131138\n",
      "SGD iter. 42/49: loss=518.168616884132, w0=58.01118642663469, w1=8.96637343705261\n",
      "SGD iter. 43/49: loss=489.1335649637257, w0=58.428237676005686, w1=9.285939547771717\n",
      "SGD iter. 44/49: loss=461.98376777891417, w0=58.83150084883581, w1=9.594984489044835\n",
      "SGD iter. 45/49: loss=436.59681462650155, w0=59.22143563154958, w1=9.893849640198118\n",
      "SGD iter. 46/49: loss=412.85824320919704, w0=59.59848556456312, w1=10.18286637890782\n",
      "SGD iter. 47/49: loss=390.6610234485434, w0=59.96307878314855, w1=10.46235614025854\n",
      "SGD iter. 48/49: loss=369.9050748503479, w0=60.315628689371316, w1=10.732630531845283\n",
      "SGD iter. 49/49: loss=350.4968152301517, w0=60.6565345668889, w1=10.993991490663257\n",
      "SGD: execution time=0.008 seconds\n"
     ]
    }
   ],
   "source": [
    "# from stochastic_gradient_descent import *\n",
    "\n",
    "# Define the parameters of the algorithm.\n",
    "max_iters = 50\n",
    "gamma = 0.1\n",
    "batch_size = 5\n",
    "\n",
    "# Initialization\n",
    "w_initial = np.array([0, 0])\n",
    "\n",
    "# Start SGD.\n",
    "start_time = datetime.datetime.now()\n",
    "sgd_losses, sgd_ws = stochastic_gradient_descent(\n",
    "    y, tx, w_initial, batch_size, max_iters, gamma\n",
    ")\n",
    "end_time = datetime.datetime.now()\n",
    "\n",
    "# Print result\n",
    "exection_time = (end_time - start_time).total_seconds()\n",
    "print(\"SGD: execution time={t:.3f} seconds\".format(t=exection_time))"
   ]
  },
  {
   "cell_type": "code",
   "execution_count": 18,
   "metadata": {},
   "outputs": [
    {
     "data": {
      "application/vnd.jupyter.widget-view+json": {
       "model_id": "0a800427dad640b49448089c0685f2c9",
       "version_major": 2,
       "version_minor": 0
      },
      "text/plain": [
       "interactive(children=(IntSlider(value=1, description='n_iter', max=51, min=1), Output()), _dom_classes=('widge…"
      ]
     },
     "metadata": {},
     "output_type": "display_data"
    },
    {
     "data": {
      "text/plain": [
       "<function __main__.plot_figure(n_iter)>"
      ]
     },
     "execution_count": 18,
     "metadata": {},
     "output_type": "execute_result"
    }
   ],
   "source": [
    "# Time Visualization\n",
    "from ipywidgets import IntSlider, interact\n",
    "\n",
    "\n",
    "def plot_figure(n_iter):\n",
    "    fig = gradient_descent_visualization(\n",
    "        sgd_losses,\n",
    "        sgd_ws,\n",
    "        grid_losses,\n",
    "        grid_w0,\n",
    "        grid_w1,\n",
    "        mean_x,\n",
    "        std_x,\n",
    "        height,\n",
    "        weight,\n",
    "        n_iter,\n",
    "    )\n",
    "    fig.set_size_inches(10.0, 6.0)\n",
    "    plt.show()\n",
    "\n",
    "\n",
    "interact(plot_figure, n_iter=IntSlider(min=1, max=len(sgd_ws)))"
   ]
  },
  {
   "cell_type": "markdown",
   "metadata": {},
   "source": [
    "# 5. Effect of Outliers and MAE Cost Function"
   ]
  },
  {
   "cell_type": "code",
   "execution_count": 32,
   "metadata": {},
   "outputs": [],
   "source": [
    "import datetime\n",
    "from helpers import *\n",
    "\n",
    "# ***************************************************\n",
    "# INSERT YOUR CODE HERE\n",
    "# TODO: reload the data by subsampling first, then by subsampling and adding outliers\n",
    "# ***************************************************\n",
    "height, weight, gender = load_data(sub_sample=True, add_outlier=False)\n",
    "height_out, weight_out, gender_out = load_data(sub_sample=True, add_outlier=True)\n",
    "\n",
    "x_out, mean_x_out, std_x_out = standardize(height_out)\n",
    "y_out, tx_out = build_model_data(x_out, weight_out)\n",
    "\n",
    "x, mean_x, std_x = standardize(height)\n",
    "y, tx = build_model_data(x, weight)"
   ]
  },
  {
   "cell_type": "code",
   "execution_count": 33,
   "metadata": {},
   "outputs": [
    {
     "data": {
      "text/plain": [
       "((200,), (200, 2))"
      ]
     },
     "execution_count": 33,
     "metadata": {},
     "output_type": "execute_result"
    }
   ],
   "source": [
    "y.shape, tx.shape"
   ]
  },
  {
   "cell_type": "code",
   "execution_count": 34,
   "metadata": {},
   "outputs": [
    {
     "data": {
      "image/png": "[encoded data removed]",
      "text/plain": [
       "<Figure size 1000x600 with 2 Axes>"
      ]
     },
     "metadata": {},
     "output_type": "display_data"
    }
   ],
   "source": [
    "fig = plt.figure()\n",
    "ax1 = fig.add_subplot(1, 2, 1)\n",
    "ax1.scatter(height, weight, marker=\".\", color=\"b\", s=5)\n",
    "ax1.grid()\n",
    "ax2 = fig.add_subplot(1,2,2)\n",
    "ax2.scatter(height_out, weight_out, marker=\".\", color=\"b\", s=5)\n",
    "ax2.grid()\n",
    "\n",
    "fig.set_size_inches(10.0, 6.0)\n",
    "plt.show()\n",
    "\n",
    "\n"
   ]
  },
  {
   "cell_type": "code",
   "execution_count": 37,
   "metadata": {},
   "outputs": [
    {
     "name": "stdout",
     "output_type": "stream",
     "text": [
      "SGD iter. 0/49: loss=1159413.3862724844, w0=8.711920471678868, w1=8.927166132631555\n",
      "SGD iter. 1/49: loss=24660.526434518855, w0=15.70936345760683, w1=15.799131760930978\n",
      "SGD iter. 2/49: loss=16066.69528888997, w0=21.35791677644647, w1=21.061537763699533\n",
      "SGD iter. 3/49: loss=10738.23699148673, w0=25.944512963333096, w1=25.063977197224688\n",
      "SGD iter. 4/49: loss=7421.755073101549, w0=29.694367748022536, w1=28.080683111406135\n",
      "SGD iter. 5/49: loss=5345.536699619283, w0=32.7842704554231, w1=30.32676069799031\n",
      "SGD iter. 6/49: loss=4034.4146080074943, w0=35.353012031302754, w1=31.970923410005927\n",
      "SGD iter. 7/49: loss=3195.7891482256814, w0=37.509567175452275, w1=33.145486009457855\n",
      "SGD iter. 8/49: loss=2649.4591120687637, w0=39.33951428989742, w1=33.95420533239075\n",
      "SGD iter. 9/49: loss=2284.4228700600042, w0=40.9100727713783, w1=34.47843231936719\n",
      "SGD iter. 10/49: loss=2032.2834287924504, w0=42.274055436329014, w1=34.78193902284994\n",
      "SGD iter. 11/49: loss=1850.8754787181267, w0=43.47296973054813, w1=34.9147059686952\n",
      "SGD iter. 12/49: loss=1714.1854811356336, w0=44.53945105299101, w1=34.91589378590667\n",
      "SGD iter. 13/49: loss=1606.1459871352085, w0=45.49917203860606, w1=34.81617479333358\n",
      "SGD iter. 14/49: loss=1516.8150815012157, w0=46.372340664593295, w1=34.6395623930766\n",
      "SGD iter. 15/49: loss=1440.0242022670152, w0=47.174875736346095, w1=34.40484643099374\n",
      "SGD iter. 16/49: loss=1371.92995108915, w0=47.91932923657338, w1=34.12671938966803\n",
      "SGD iter. 17/49: loss=1310.1224381547036, w0=48.61561005612693, w1=33.81666000132931\n",
      "SGD iter. 18/49: loss=1253.0762545423568, w0=49.27155188316262, w1=33.483626526944946\n",
      "SGD iter. 19/49: loss=1199.812382773327, w0=49.89335881427585, w1=33.134600695165844\n",
      "SGD iter. 20/49: loss=1149.6899726102595, w0=50.485955022507476, w1=32.775014465796424\n",
      "SGD iter. 21/49: loss=1102.2780704409547, w0=51.05325914526109, w1=32.40908485498716\n",
      "SGD iter. 22/49: loss=1057.2765746218338, w0=51.59839960489099, w1=32.04007662388044\n",
      "SGD iter. 23/49: loss=1014.4674995633775, w0=52.12388358291667, w1=31.670508367635748\n",
      "SGD iter. 24/49: loss=973.6849022684224, w0=52.63172962906182, w1=31.30231419548641\n",
      "SGD iter. 25/49: loss=934.796301292356, w0=53.12357173663269, w1=30.93697056690989\n",
      "SGD iter. 26/49: loss=897.6911738500485, w0=53.60074102905403, w1=30.575595788905026\n",
      "SGD iter. 27/49: loss=862.2738133453995, w0=54.064329878956464, w1=30.219028062972203\n",
      "SGD iter. 28/49: loss=828.4588740645565, w0=54.51524224281592, w1=29.86788670212656\n",
      "SGD iter. 29/49: loss=796.168572790866, w0=54.95423317939638, w1=29.522620143161213\n",
      "SGD iter. 30/49: loss=765.3309129699713, w0=55.38193988097375, w1=29.183543598586578\n",
      "SGD iter. 31/49: loss=735.8785407711022, w0=55.798906044728405, w1=28.850868580044214\n",
      "SGD iter. 32/49: loss=707.7479924371037, w0=56.205601018132946, w1=28.524726044310263\n",
      "SGD iter. 33/49: loss=680.8791846947001, w0=56.60243484336415, w1=28.205184535847955\n",
      "SGD iter. 34/49: loss=655.2150568729031, w0=56.989770083476664, w1=27.892264403942644\n",
      "SGD iter. 35/49: loss=630.70130839706, w0=57.36793112296843, w1=27.58594894026237\n",
      "SGD iter. 36/49: loss=607.2861968895317, w0=57.73721148620404, w1=27.286193100504395\n",
      "SGD iter. 37/49: loss=584.92037538724, w0=58.09787960012426, w1=26.992930330843528\n",
      "SGD iter. 38/49: loss=563.5567553653198, w0=58.4501833358389, w1=26.706077907740145\n",
      "SGD iter. 39/49: loss=543.1503872950249, w0=58.79435359164704, w1=26.42554111166421\n",
      "SGD iter. 40/49: loss=523.6583535696344, w0=59.130607123493355, w1=26.151216486243385\n",
      "SGD iter. 41/49: loss=505.03967054732743, w0=59.45914878451049, w1=25.882994380166682\n",
      "SGD iter. 42/49: loss=487.25519764226095, w0=59.78017330049173, w1=25.62076092666676\n",
      "SGD iter. 43/49: loss=470.26755212590314, w0=60.09386668082891, w1=25.364399582051252\n",
      "SGD iter. 44/49: loss=454.04102875352277, w0=60.40040734302248, w1=25.113792318584018\n",
      "SGD iter. 45/49: loss=438.54152361223663, w0=60.69996701205765, w1=24.868820546484482\n",
      "SGD iter. 46/49: loss=423.73646176298206, w0=60.992711442748195, w1=24.62936582370255\n",
      "SGD iter. 47/49: loss=409.59472835959644, w0=61.278801002798595, w1=24.39531039948619\n",
      "SGD iter. 48/49: loss=396.0866029988271, w0=61.558391146212955, w1=24.16653762784077\n",
      "SGD iter. 49/49: loss=383.1836971008561, w0=61.831632800306544, w1=23.942932279197667\n",
      "SGD: execution time=0.007 seconds\n",
      "GD: execution time=0.007 seconds\n"
     ]
    }
   ],
   "source": [
    "from plots import gradient_descent_visualization\n",
    "\n",
    "# Define the parameters of the algorithm.\n",
    "max_iters = 50\n",
    "gamma = 0.7\n",
    "\n",
    "# Initialization\n",
    "w_initial = np.array([0, 0])\n",
    "\n",
    "# Start gradient descent.\n",
    "start_time = datetime.datetime.now()\n",
    "\n",
    "# ***************************************************\n",
    "# INSERT YOUR CODE HERE\n",
    "# TODO: fit the model to the subsampled data / subsampled data with outliers and visualize the cloud of points\n",
    "#       and the model fit\n",
    "# ***************************************************\n",
    "max_iters = 50\n",
    "gamma = 0.1\n",
    "batch_size = 5\n",
    "\n",
    "# Initialization\n",
    "w_initial = np.array([0, 0])\n",
    "\n",
    "# Start SGD For usual data\n",
    "start_time = datetime.datetime.now()\n",
    "sgd_losses_out, sgd_ws_out = stochastic_gradient_descent(\n",
    "    y_out, tx_out, w_initial, batch_size, max_iters, gamma\n",
    ")\n",
    "end_time = datetime.datetime.now()\n",
    "\n",
    "# Print result\n",
    "exection_time = (end_time - start_time).total_seconds()\n",
    "print(\"SGD: execution time={t:.3f} seconds\".format(t=exection_time))\n",
    "\n",
    "end_time = datetime.datetime.now()\n",
    "\n",
    "# Print result\n",
    "exection_time = (end_time - start_time).total_seconds()\n",
    "print(\"GD: execution time={t:.3f} seconds\".format(t=exection_time))\n",
    "\n"
   ]
  },
  {
   "cell_type": "code",
   "execution_count": 38,
   "metadata": {},
   "outputs": [
    {
     "data": {
      "application/vnd.jupyter.widget-view+json": {
       "model_id": "0995a6ce25434ca3938d508e37f01933",
       "version_major": 2,
       "version_minor": 0
      },
      "text/plain": [
       "interactive(children=(IntSlider(value=1, description='n_iter', max=51, min=1), Output()), _dom_classes=('widge…"
      ]
     },
     "metadata": {},
     "output_type": "display_data"
    },
    {
     "data": {
      "text/plain": [
       "<function __main__.plot_figure(n_iter)>"
      ]
     },
     "execution_count": 38,
     "metadata": {},
     "output_type": "execute_result"
    }
   ],
   "source": [
    "# Time Visualization\n",
    "from ipywidgets import IntSlider, interact\n",
    "\n",
    "\n",
    "def plot_figure(n_iter):\n",
    "    fig = gradient_descent_visualization(\n",
    "        sgd_losses_out,\n",
    "        sgd_ws_out,\n",
    "        grid_losses,\n",
    "        grid_w0,\n",
    "        grid_w1,\n",
    "        mean_x_out,\n",
    "        std_x_out,\n",
    "        height_out,\n",
    "        weight_out,\n",
    "        n_iter,\n",
    "    )\n",
    "    fig.set_size_inches(10.0, 6.0)\n",
    "    plt.show()\n",
    "\n",
    "\n",
    "\n",
    "interact(plot_figure, n_iter=IntSlider(min=1, max=len(gd_ws)))"
   ]
  },
  {
   "cell_type": "markdown",
   "metadata": {
    "collapsed": true,
    "jupyter": {
     "outputs_hidden": true
    }
   },
   "source": [
    "# 6. Subgradient descent"
   ]
  },
  {
   "cell_type": "code",
   "execution_count": null,
   "metadata": {},
   "outputs": [],
   "source": [
    "def compute_subgradient_mae(y, tx, w):\n",
    "    \"\"\"Compute a subgradient of the MAE at w.\n",
    "\n",
    "    Args:\n",
    "        y: numpy array of shape=(N, )\n",
    "        tx: numpy array of shape=(N,2)\n",
    "        w: numpy array of shape=(2, ). The vector of model parameters.\n",
    "\n",
    "    Returns:\n",
    "        A numpy array of shape (2, ) (same shape as w), containing the subgradient of the MAE at w.\n",
    "    \"\"\"\n",
    "    # ***************************************************\n",
    "    # INSERT YOUR CODE HERE\n",
    "    # TODO: compute subgradient gradient vector for MAE\n",
    "    # ***************************************************\n",
    "    \n",
    "    raise NotImplementedError"
   ]
  },
  {
   "cell_type": "code",
   "execution_count": null,
   "metadata": {},
   "outputs": [],
   "source": [
    "def subgradient_descent(y, tx, initial_w, max_iters, gamma):\n",
    "    \"\"\"The SubGradient Descent (SubGD) algorithm.\n",
    "\n",
    "    Args:\n",
    "        y: numpy array of shape=(N, )\n",
    "        tx: numpy array of shape=(N,2)\n",
    "        initial_w: numpy array of shape=(2, ). The initial guess (or the initialization) for the model parameters\n",
    "        max_iters: a scalar denoting the total number of iterations of GD\n",
    "        gamma: a scalar denoting the stepsize\n",
    "\n",
    "    Returns:\n",
    "        losses: a list of length max_iters containing the loss value (scalar) for each iteration of SubGD\n",
    "        ws: a list of length max_iters containing the model parameters as numpy arrays of shape (2, ), for each iteration of SubGD\n",
    "    \"\"\"\n",
    "    # Define parameters to store w and loss\n",
    "    ws = [initial_w]\n",
    "    losses = []\n",
    "    w = initial_w\n",
    "    for n_iter in range(max_iters):\n",
    "        # ***************************************************\n",
    "        # INSERT YOUR CODE HERE\n",
    "        # TODO: compute subgradient and loss\n",
    "        # ***************************************************\n",
    "        raise NotImplementedError\n",
    "        # ***************************************************\n",
    "        # INSERT YOUR CODE HERE\n",
    "        # TODO: update w by subgradient\n",
    "        # ***************************************************\n",
    "        raise NotImplementedError\n",
    "\n",
    "        ws.append(w)\n",
    "        losses.append(loss)\n",
    "        print(\n",
    "            \"SubGD iter. {bi}/{ti}: loss={l}, w0={w0}, w1={w1}\".format(\n",
    "                bi=n_iter, ti=max_iters - 1, l=loss, w0=w[0], w1=w[1]\n",
    "            )\n",
    "        )\n",
    "\n",
    "    return losses, ws"
   ]
  },
  {
   "cell_type": "code",
   "execution_count": null,
   "metadata": {},
   "outputs": [],
   "source": [
    "# Define the parameters of the algorithm.\n",
    "max_iters = 500\n",
    "gamma = 0.7\n",
    "batch_size = 1\n",
    "\n",
    "# Initialization\n",
    "w_initial = np.array([0, 0])\n",
    "\n",
    "# Start SubSGD.\n",
    "start_time = datetime.datetime.now()\n",
    "subgd_losses, subgd_ws = subgradient_descent(y, tx, w_initial, max_iters, gamma)\n",
    "end_time = datetime.datetime.now()\n",
    "\n",
    "# Print result\n",
    "exection_time = (end_time - start_time).total_seconds()\n",
    "print(\"SubGD: execution time={t:.3f} seconds\".format(t=exection_time))"
   ]
  },
  {
   "cell_type": "code",
   "execution_count": null,
   "metadata": {},
   "outputs": [],
   "source": [
    "from ipywidgets import IntSlider, interact\n",
    "\n",
    "\n",
    "def plot_figure(n_iter):\n",
    "    fig = gradient_descent_visualization(\n",
    "        subgd_losses,\n",
    "        subgd_ws,\n",
    "        grid_losses,\n",
    "        grid_w0,\n",
    "        grid_w1,\n",
    "        mean_x,\n",
    "        std_x,\n",
    "        height,\n",
    "        weight,\n",
    "        n_iter,\n",
    "    )\n",
    "    fig.set_size_inches(10.0, 6.0)\n",
    "\n",
    "\n",
    "interact(plot_figure, n_iter=IntSlider(min=1, max=len(subgd_ws)))"
   ]
  },
  {
   "cell_type": "markdown",
   "metadata": {},
   "source": [
    "# Stochastic Subgradient Descent\n",
    "\n",
    "**NB** for the computation of the subgradient you can reuse the `compute_subgradient` method that you implemented above, just making sure that you pass in a minibatch as opposed to the full data."
   ]
  },
  {
   "cell_type": "code",
   "execution_count": null,
   "metadata": {},
   "outputs": [],
   "source": [
    "def stochastic_subgradient_descent(y, tx, initial_w, batch_size, max_iters, gamma):\n",
    "    \"\"\"Compute a stochastic subgradient at w from a data sample batch of size B, where B < N, and their corresponding labels.\n",
    "\n",
    "    Args:\n",
    "        y: numpy array of shape=(B, )\n",
    "        tx: numpy array of shape=(B,2)\n",
    "        initial_w: numpy array of shape=(2, ). The initial guess (or the initialization) for the model parameters\n",
    "        batch_size: a scalar denoting the number of data points in a mini-batch used for computing the stochastic subgradient\n",
    "        max_iters: a scalar denoting the total number of iterations of SubSGD\n",
    "        gamma: a scalar denoting the stepsize\n",
    "\n",
    "    Returns:\n",
    "        losses: a list of length max_iters containing the loss value (scalar) for each iteration of SubSGD\n",
    "        ws: a list of length max_iters containing the model parameters as numpy arrays of shape (2, ), for each iteration of SubSGD\n",
    "    \"\"\"\n",
    "\n",
    "    # Define parameters to store w and loss\n",
    "    ws = [initial_w]\n",
    "    losses = []\n",
    "    w = initial_w\n",
    "\n",
    "    for n_iter in range(max_iters):\n",
    "        # ***************************************************\n",
    "        # INSERT YOUR CODE HERE\n",
    "        # TODO: implement stochastic subgradient descent.\n",
    "        # ***************************************************\n",
    "        raise NotImplementedError\n",
    "\n",
    "        print(\n",
    "            \"SubSGD iter. {bi}/{ti}: loss={l}, w0={w0}, w1={w1}\".format(\n",
    "                bi=n_iter, ti=max_iters - 1, l=loss, w0=w[0], w1=w[1]\n",
    "            )\n",
    "        )\n",
    "    return losses, ws"
   ]
  },
  {
   "cell_type": "code",
   "execution_count": null,
   "metadata": {},
   "outputs": [],
   "source": [
    "# Define the parameters of the algorithm.\n",
    "max_iters = 500\n",
    "gamma = 0.7\n",
    "batch_size = 1\n",
    "\n",
    "# Initialization\n",
    "w_initial = np.array([0, 0])\n",
    "\n",
    "# Start SubSGD.\n",
    "start_time = datetime.datetime.now()\n",
    "subsgd_losses, subsgd_ws = stochastic_subgradient_descent(\n",
    "    y, tx, w_initial, batch_size, max_iters, gamma\n",
    ")\n",
    "end_time = datetime.datetime.now()\n",
    "\n",
    "# Print result\n",
    "exection_time = (end_time - start_time).total_seconds()\n",
    "print(\"SubSGD: execution time={t:.3f} seconds\".format(t=exection_time))"
   ]
  },
  {
   "cell_type": "code",
   "execution_count": null,
   "metadata": {},
   "outputs": [],
   "source": [
    "from ipywidgets import IntSlider, interact\n",
    "\n",
    "\n",
    "def plot_figure(n_iter):\n",
    "    fig = gradient_descent_visualization(\n",
    "        subsgd_losses,\n",
    "        subsgd_ws,\n",
    "        grid_losses,\n",
    "        grid_w0,\n",
    "        grid_w1,\n",
    "        mean_x,\n",
    "        std_x,\n",
    "        height,\n",
    "        weight,\n",
    "        n_iter,\n",
    "    )\n",
    "    fig.set_size_inches(10.0, 6.0)\n",
    "\n",
    "\n",
    "interact(plot_figure, n_iter=IntSlider(min=1, max=len(subsgd_ws)))"
   ]
  }
 ],
 "metadata": {
  "kernelspec": {
   "display_name": "Python 3 (ipykernel)",
   "language": "python",
   "name": "python3"
  },
  "language_info": {
   "codemirror_mode": {
    "name": "ipython",
    "version": 3
   },
   "file_extension": ".py",
   "mimetype": "text/x-python",
   "name": "python",
   "nbconvert_exporter": "python",
   "pygments_lexer": "ipython3",
   "version": "3.12.5"
  }
 },
 "nbformat": 4,
 "nbformat_minor": 4
}
